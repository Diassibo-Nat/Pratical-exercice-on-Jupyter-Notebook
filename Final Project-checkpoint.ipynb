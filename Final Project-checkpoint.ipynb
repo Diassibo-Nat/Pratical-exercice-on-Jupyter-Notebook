{
 "cells": [
  {
   "cell_type": "markdown",
   "id": "9acf752b-df7c-4ca1-b684-84f9d2111606",
   "metadata": {},
   "source": [
    "# Practical exercise on Jupyter Notebook"
   ]
  },
  {
   "cell_type": "markdown",
   "id": "fbab2ef1-f4e6-4841-ba11-1b4133ad1ed5",
   "metadata": {},
   "source": [
    "## Introduction\n",
    "In this practical exercise, we will be using Jupyter Notebook to apply key concepts, run Python code etc..."
   ]
  },
  {
   "cell_type": "markdown",
   "id": "12e646b8-c59d-4bac-ba2e-f5a3c9a92875",
   "metadata": {},
   "source": [
    "### Data science languages\n",
    "* Python\n",
    "* R"
   ]
  },
  {
   "cell_type": "markdown",
   "id": "d6c36acb-830c-4960-812c-8709b6f47e43",
   "metadata": {
    "jp-MarkdownHeadingCollapsed": true
   },
   "source": [
    "### Data science librairies\n",
    "This is an ordered list of data science libraries\n",
    "1. Scikit learn\n",
    "2. TensorFlow\n",
    "3. caret\n",
    "4. randomForest"
   ]
  },
  {
   "cell_type": "markdown",
   "id": "d346b794-2797-423b-9709-e5bd80ddb929",
   "metadata": {},
   "source": [
    "### Table of data science tools\n",
    "|Term of tool| Definition|\n",
    "|------------|---|\n",
    "|Apache MLlib|Language that makes machine learning scalable|\n",
    "|Apache Spark|A general-purpose cluster-computing framework allowing you to process data using compute clusters|\n",
    "|API|Application programming interface allows communication between two pieces of software|"
   ]
  },
  {
   "cell_type": "markdown",
   "id": "66c986c4-498d-4d29-9461-5fe796070baa",
   "metadata": {},
   "source": [
    "### Arithmetic expression examples\n",
    "Arithmetic expressions perform mathematical operations\n",
    "- `+` (Addition) \n",
    "- `-` (Subtraction)\n",
    "- `*` (Multiplication)\n",
    "- `/` (Division)\n",
    "- `**` (Exponentiation)\n",
    "- `%` (Modulus)"
   ]
  },
  {
   "cell_type": "markdown",
   "id": "b744d4a7-adc5-4280-ace3-fb936584efa9",
   "metadata": {},
   "source": [
    "### Multiplication and addition"
   ]
  },
  {
   "cell_type": "code",
   "execution_count": 7,
   "id": "5a00c190-b591-42db-9584-b47a1349b2aa",
   "metadata": {},
   "outputs": [
    {
     "name": "stdout",
     "output_type": "stream",
     "text": [
      "35\n"
     ]
    }
   ],
   "source": [
    "x=5\n",
    "y=7\n",
    "# Multiplication\n",
    "multiplication_result=x * y\n",
    "print(multiplication_result)"
   ]
  },
  {
   "cell_type": "code",
   "execution_count": 8,
   "id": "e6365c06-01cb-46f5-805b-309cd22d4783",
   "metadata": {},
   "outputs": [
    {
     "name": "stdout",
     "output_type": "stream",
     "text": [
      "12\n"
     ]
    }
   ],
   "source": [
    "# Addition\n",
    "addition_multiplication=x + y\n",
    "print(addition_multiplication)"
   ]
  },
  {
   "cell_type": "markdown",
   "id": "1245a5af-89f7-4873-8ba7-91aee0d6611d",
   "metadata": {},
   "source": [
    "### Convert minutes to hours"
   ]
  },
  {
   "cell_type": "code",
   "execution_count": 9,
   "id": "7118b224-a9d7-4ce9-91e7-a8df0978e304",
   "metadata": {},
   "outputs": [
    {
     "name": "stdout",
     "output_type": "stream",
     "text": [
      "798 is equal to 13.3 hours\n"
     ]
    }
   ],
   "source": [
    "minutes = 798\n",
    "hours = minutes / 60\n",
    "print(f\"{minutes} is equal to {hours} hours\")"
   ]
  },
  {
   "cell_type": "markdown",
   "id": "97cb7cf8-d8e4-47b2-a1df-44dba04a260d",
   "metadata": {},
   "source": [
    "### Objectives of this pratical exercise\n",
    "Here are the objectives of this practical exercise that we executed above\n",
    "* Create a markdown cell for an introduction\n",
    "* Create a markdown cell to list data science languages\n",
    "* Create a markdown cell to list data science libraries\n",
    "* Create a markdown cell with a table of Data Science tools\n",
    "* Create a markdown cell introducing arithmetic expression examples\n",
    "* Create a code cell to multiply and add numbers\n",
    "* Create a code cell to convert minutes to hours"
   ]
  },
  {
   "cell_type": "markdown",
   "id": "32a27cda-db41-42b7-a276-2e78651a1e39",
   "metadata": {},
   "source": [
    "### Author's name\n",
    "Diassibo Jean Marc NATAMA"
   ]
  },
  {
   "cell_type": "code",
   "execution_count": null,
   "id": "f2a56e87-4603-4d47-b689-d9f102850bf7",
   "metadata": {},
   "outputs": [],
   "source": []
  }
 ],
 "metadata": {
  "kernelspec": {
   "display_name": "Python 3 (ipykernel)",
   "language": "python",
   "name": "python3"
  },
  "language_info": {
   "codemirror_mode": {
    "name": "ipython",
    "version": 3
   },
   "file_extension": ".py",
   "mimetype": "text/x-python",
   "name": "python",
   "nbconvert_exporter": "python",
   "pygments_lexer": "ipython3",
   "version": "3.12.9"
  }
 },
 "nbformat": 4,
 "nbformat_minor": 5
}
